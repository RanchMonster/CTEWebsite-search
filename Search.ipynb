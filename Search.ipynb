{
 "cells": [
  {
   "cell_type": "code",
   "execution_count": null,
   "metadata": {},
   "outputs": [],
   "source": [
    "from sklearn.feature_extraction.text import TfidfVectorizer\n",
    "import pandas as pd\n",
    "\n",
    "# Sample website content\n",
    "data = [\n",
    "    {\"url\": \"site.com/page1\", \"title\": \"Cooking class\", \"content\": \"Cooking is a basic skill all new in life...\",\"filters\":[\"IT\"]},\n",
    "    {\"url\": \"site.com/page2\", \"title\": \"Machine Learning\", \"content\": \"Machine learning is a subset of AI...\",\"filters\":[]},\n",
    "    {\"url\": \"site.com/page3\", \"title\": \"Deep Learning\", \"content\": \"Deep learning uses neural networks...\",\"filters\":[]}\n",
    "]\n",
    "df = pd.DataFrame(data)\n",
    "\n",
    "# Convert text to TF-IDF vectors\n",
    "vectorizer = TfidfVectorizer(stop_words='english')\n",
    "tfidf_matrix = vectorizer.fit_transform(df[\"content\"])\n"
   ]
  },
  {
   "cell_type": "code",
   "execution_count": 53,
   "metadata": {},
   "outputs": [],
   "source": [
    "from sklearn.metrics.pairwise import cosine_similarity\n",
    "\n",
    "def search(query):\n",
    "    query_vector = vectorizer.transform([query])\n",
    "    similarities = cosine_similarity(query_vector, tfidf_matrix).flatten()\n",
    "    return similarities\n"
   ]
  },
  {
   "cell_type": "code",
   "execution_count": 54,
   "metadata": {},
   "outputs": [],
   "source": [
    "# Simulated user feedback data \n",
    "#later I will write a function to handel this and convert the data\n",
    "user_feedback = [\n",
    "    {\"query\": \"cake\", \"url\": \"site.com/page1\", \"clicked\":1},\n",
    "    {\"query\": \"Machine Learning\", \"url\": \"site.com/page2\",\"clicked\":1},\n",
    "    {\"query\": \"Deep Learning\", \"url\": \"site.com/page3\",\"clicked\":1},\n",
    "    {\"query\": \"Deep Learning\", \"url\": \"site.com/page1\",\"clicked\":0},\n",
    "    {\"query\": \"Machine Learning\", \"url\": \"site.com/page1\",\"clicked\":0},\n",
    "    {\"query\": \"food\", \"url\": \"site.com/page1\", \"clicked\":1},\n",
    "    {\"query\": \"pizza\", \"url\": \"site.com/page1\", \"clicked\":1},\n",
    "]\n",
    "\n",
    "feedback_df = pd.DataFrame(user_feedback)\n"
   ]
  },
  {
   "cell_type": "code",
   "execution_count": 55,
   "metadata": {},
   "outputs": [],
   "source": [
    "from sklearn.ensemble import RandomForestRegressor\n",
    "import numpy as np\n",
    "model = RandomForestRegressor()\n",
    "# Combine similarity scores and feedback as training data\n",
    "def learn(feedback_df):\n",
    "    global model\n",
    "    features = []\n",
    "    labels = []\n",
    "    for index, row in feedback_df.iterrows():\n",
    "        doc_index = df[df[\"url\"] == row[\"url\"]].index[0]\n",
    "        similarity = search(row[\"query\"])[doc_index]\n",
    "        features.append([similarity])\n",
    "        labels.append(row[\"clicked\"])  # 1 if clicked, 0 if ignored\n",
    "\n",
    "    # Train a ranking model\n",
    "\n",
    "    model.fit(np.array(features), np.array(labels))\n",
    "learn(feedback_df)"
   ]
  },
  {
   "cell_type": "code",
   "execution_count": null,
   "metadata": {},
   "outputs": [
    {
     "name": "stdout",
     "output_type": "stream",
     "text": [
      "[('site.com/page2', 'Machine Learning', np.float64(0.9671428571428571)), ('site.com/page1', 'Cooking class', np.float64(0.5446428571428571)), ('site.com/page3', 'Deep Learning', np.float64(0.5446428571428571))]\n"
     ]
    },
    {
     "ename": "",
     "evalue": "",
     "output_type": "error",
     "traceback": [
      "\u001b[1;31mThe Kernel crashed while executing code in the current cell or a previous cell. \n",
      "\u001b[1;31mPlease review the code in the cell(s) to identify a possible cause of the failure. \n",
      "\u001b[1;31mClick <a href='https://aka.ms/vscodeJupyterKernelCrash'>here</a> for more info. \n",
      "\u001b[1;31mView Jupyter <a href='command:jupyter.viewOutput'>log</a> for further details."
     ]
    }
   ],
   "source": [
    "def improved_search(query):\n",
    "    similarities = search(query)\n",
    "    results = []\n",
    "    \n",
    "    for i, sim in enumerate(similarities):\n",
    "        features = np.array([[sim]])  # Assume 10 seconds time spent for new results\n",
    "        rank_score = model.predict(features)[0]\n",
    "        results.append((df.iloc[i][\"url\"], df.iloc[i][\"title\"], rank_score))\n",
    "\n",
    "    return sorted(results, key=lambda x: x[2], reverse=True)  # Sort by predicted relevance\n",
    "\n",
    "# Try a search\n",
    "print(improved_search(\"how to make AI\"))\n"
   ]
  }
 ],
 "metadata": {
  "kernelspec": {
   "display_name": ".venv",
   "language": "python",
   "name": "python3"
  },
  "language_info": {
   "codemirror_mode": {
    "name": "ipython",
    "version": 3
   },
   "file_extension": ".py",
   "mimetype": "text/x-python",
   "name": "python",
   "nbconvert_exporter": "python",
   "pygments_lexer": "ipython3",
   "version": "3.12.8"
  }
 },
 "nbformat": 4,
 "nbformat_minor": 2
}

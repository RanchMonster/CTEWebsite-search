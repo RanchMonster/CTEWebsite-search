{
 "cells": [
  {
   "cell_type": "markdown",
   "metadata": {},
   "source": [
    "# This is the notebook where I am testing the actual search this is not what will be used in production"
   ]
  },
  {
   "cell_type": "code",
   "execution_count": 1,
   "metadata": {},
   "outputs": [],
   "source": [
    "from sklearn.feature_extraction.text import TfidfVectorizer\n",
    "import pandas as pd\n",
    "\n",
    "# Sample website content\n",
    "data = [\n",
    "    {\"url\": \"site.com/page1\", \"title\": \"Cooking class\", \"content\": \"Cooking is a basic skill all new in life...\", \"filters\": []},\n",
    "    {\"url\": \"site.com/page2\", \"title\": \"Machine Learning\", \"content\": \"Machine learning is a subset of AI...\", \"filters\": []},\n",
    "    {\"url\": \"site.com/page3\", \"title\": \"Deep Learning\", \"content\": \"Deep learning uses neural networks...\", \"filters\": []}\n",
    "]\n",
    "df = pd.DataFrame(data)\n",
    "# Convert text to TF-IDF vectors\n",
    "vectorizer = TfidfVectorizer(stop_words='english')\n",
    "tfidf_matrix = vectorizer.fit_transform(df[\"content\"])"
   ]
  },
  {
   "cell_type": "code",
   "execution_count": 2,
   "metadata": {},
   "outputs": [],
   "source": [
    "from sklearn.metrics.pairwise import cosine_similarity\n",
    "\n",
    "def search(query):\n",
    "    query_vector = vectorizer.transform([query])\n",
    "    similarities = cosine_similarity(query_vector, tfidf_matrix).flatten()\n",
    "    return similarities\n"
   ]
  },
  {
   "cell_type": "code",
   "execution_count": 3,
   "metadata": {},
   "outputs": [],
   "source": [
    "# Simulated user feedback data \n",
    "#later I will write a function to handel this and convert the data\n",
    "user_feedback = [\n",
    "    {\"query\": \"cake\", \"url\": \"site.com/page1\", \"clicked\": 1},\n",
    "    {\"query\": \"Machine Learning\", \"url\": \"site.com/page2\", \"clicked\": 1},\n",
    "    {\"query\": \"Deep Learning\", \"url\": \"site.com/page3\", \"clicked\": 1},\n",
    "    {\"query\": \"Deep Learning\", \"url\": \"site.com/page1\", \"clicked\": 0},\n",
    "    {\"query\": \"Machine Learning\", \"url\": \"site.com/page1\", \"clicked\": 0},\n",
    "    {\"query\": \"food\", \"url\": \"site.com/page1\", \"clicked\": 1},\n",
    "    {\"query\": \"pizza\", \"url\": \"site.com/page1\", \"clicked\": 1},\n",
    "    {\"query\": \"pizza\", \"url\": \"site.com/page2\", \"clicked\": 1},\n",
    "    {\"query\": \"Machine Learning\", \"url\": \"site.com/page1\", \"clicked\": 1}\n",
    "]\n",
    "feedback_df = pd.DataFrame(user_feedback)\n"
   ]
  },
  {
   "cell_type": "code",
   "execution_count": 4,
   "metadata": {},
   "outputs": [],
   "source": [
    "from sklearn.ensemble import RandomForestRegressor\n",
    "import numpy as np\n",
    "model = RandomForestRegressor()\n",
    "\n",
    "def learn(feedback_df):\n",
    "    global model\n",
    "    features = []\n",
    "    labels = []\n",
    "    for index, row in feedback_df.iterrows():\n",
    "        doc_index = df[df[\"url\"] == row[\"url\"]].index[0]\n",
    "        similarity = search(row[\"query\"])[doc_index]\n",
    "        features.append([similarity])\n",
    "        labels.append(row[\"clicked\"])  # 1 if clicked, 0 if ignored\n",
    "\n",
    "    # Train a ranking model\n",
    "    model.fit(np.array(features), np.array(labels))\n",
    "\n",
    "learn(feedback_df)"
   ]
  },
  {
   "cell_type": "code",
   "execution_count": 5,
   "metadata": {},
   "outputs": [
    {
     "name": "stdout",
     "output_type": "stream",
     "text": [
      "[('site.com/page2', 'Machine Learning', np.float64(0.9755555555555556)), ('site.com/page1', 'Cooking class', np.float64(0.703269841269841)), ('site.com/page3', 'Deep Learning', np.float64(0.703269841269841))]\n",
      "[('site.com/page2', 'Machine Learning', np.float64(0.9755555555555556)), ('site.com/page1', 'Cooking class', np.float64(0.703269841269841)), ('site.com/page3', 'Deep Learning', np.float64(0.703269841269841))]\n"
     ]
    }
   ],
   "source": [
    "def improved_search(query, filters=None):\n",
    "    \"\"\"\n",
    "    Perform a search with optional filters.\n",
    "\n",
    "    :param query: Search query string\n",
    "    :param filters: List of filter tags (optional)\n",
    "    :return: Ranked search results\n",
    "    \"\"\"\n",
    "    similarities = search(query)\n",
    "    results = []\n",
    "    \n",
    "    for i, sim in enumerate(similarities):\n",
    "        # Skip results that do not match the filters (if any filters are specified)\n",
    "        if filters:\n",
    "            page_filters = df.iloc[i][\"filters\"]\n",
    "            if not any(f in page_filters for f in filters):\n",
    "                continue\n",
    "\n",
    "        features = np.array([[sim]])  \n",
    "        rank_score = model.predict(features)[0]\n",
    "        results.append((df.iloc[i][\"url\"], df.iloc[i][\"title\"], rank_score))\n",
    "\n",
    "    return sorted(results, key=lambda x: x[2], reverse=True)  # Sort by predicted relevance\n",
    "\n",
    "# Try a search with and without filters\n",
    "print(improved_search(\"AI\"))  # Without filters\n",
    "print(improved_search(\"how to make AI\", filters=[]))  # With filter"
   ]
  }
 ],
 "metadata": {
  "kernelspec": {
   "display_name": ".venv",
   "language": "python",
   "name": "python3"
  },
  "language_info": {
   "codemirror_mode": {
    "name": "ipython",
    "version": 3
   },
   "file_extension": ".py",
   "mimetype": "text/x-python",
   "name": "python",
   "nbconvert_exporter": "python",
   "pygments_lexer": "ipython3",
   "version": "3.12.7+"
  }
 },
 "nbformat": 4,
 "nbformat_minor": 2
}
